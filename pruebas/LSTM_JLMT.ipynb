{
 "cells": [
  {
   "cell_type": "code",
   "execution_count": 1,
   "metadata": {
    "collapsed": true,
    "ExecuteTime": {
     "end_time": "2024-03-21T05:19:46.830603400Z",
     "start_time": "2024-03-21T05:19:37.534600700Z"
    }
   },
   "outputs": [
    {
     "name": "stdout",
     "output_type": "stream",
     "text": [
      "WARNING:tensorflow:From C:\\Users\\52341\\Desktop\\Test TAAP\\lib\\site-packages\\keras\\src\\losses.py:2976: The name tf.losses.sparse_softmax_cross_entropy is deprecated. Please use tf.compat.v1.losses.sparse_softmax_cross_entropy instead.\n",
      "\n"
     ]
    }
   ],
   "source": [
    "import pandas as pd\n",
    "import numpy as np\n",
    "from sklearn.preprocessing import MinMaxScaler\n",
    "from keras.models import Sequential\n",
    "from keras.layers import Dense, LSTM\n",
    "import matplotlib.pyplot as plt"
   ]
  },
  {
   "cell_type": "code",
   "execution_count": 2,
   "outputs": [],
   "source": [
    "# Cargar el conjunto de datos\n",
    "df = pd.read_csv('../datos_exportados_clean.csv')\n",
    "df['Fecha'] = pd.to_datetime(df['Fecha'])\n"
   ],
   "metadata": {
    "collapsed": false,
    "ExecuteTime": {
     "end_time": "2024-03-21T05:19:47.350588900Z",
     "start_time": "2024-03-21T05:19:46.830603400Z"
    }
   }
  },
  {
   "cell_type": "code",
   "execution_count": 3,
   "outputs": [
    {
     "name": "stderr",
     "output_type": "stream",
     "text": [
      "C:\\Users\\52341\\AppData\\Local\\Temp\\ipykernel_8796\\1835581675.py:5: SettingWithCopyWarning: \n",
      "A value is trying to be set on a copy of a slice from a DataFrame.\n",
      "Try using .loc[row_indexer,col_indexer] = value instead\n",
      "\n",
      "See the caveats in the documentation: https://pandas.pydata.org/pandas-docs/stable/user_guide/indexing.html#returning-a-view-versus-a-copy\n",
      "  df_filtered['Fecha'] = pd.to_datetime(df_filtered['Fecha'])\n"
     ]
    }
   ],
   "source": [
    "# Filtrar el dataset para la latitud y longitud específica\n",
    "lat = 22.625\n",
    "lon = -107.125\n",
    "df_filtered = df[(df['Latitud'] == lat) & (df['Longitud'] == lon)]\n",
    "df_filtered['Fecha'] = pd.to_datetime(df_filtered['Fecha'])"
   ],
   "metadata": {
    "collapsed": false,
    "ExecuteTime": {
     "end_time": "2024-03-21T05:19:48.845564900Z",
     "start_time": "2024-03-21T05:19:48.782584500Z"
    }
   }
  },
  {
   "cell_type": "code",
   "execution_count": 4,
   "outputs": [],
   "source": [
    "df_filtered2 = df_filtered.copy()"
   ],
   "metadata": {
    "collapsed": false,
    "ExecuteTime": {
     "end_time": "2024-03-21T05:19:49.620281200Z",
     "start_time": "2024-03-21T05:19:49.600644400Z"
    }
   }
  },
  {
   "cell_type": "code",
   "execution_count": 5,
   "outputs": [
    {
     "name": "stderr",
     "output_type": "stream",
     "text": [
      "C:\\Users\\52341\\AppData\\Local\\Temp\\ipykernel_8796\\619420718.py:5: SettingWithCopyWarning: \n",
      "A value is trying to be set on a copy of a slice from a DataFrame.\n",
      "Try using .loc[row_indexer,col_indexer] = value instead\n",
      "\n",
      "See the caveats in the documentation: https://pandas.pydata.org/pandas-docs/stable/user_guide/indexing.html#returning-a-view-versus-a-copy\n",
      "  df_filtered[f'SST_lag_{i}'] = df_filtered['SST'].shift(i)\n",
      "C:\\Users\\52341\\AppData\\Local\\Temp\\ipykernel_8796\\619420718.py:5: SettingWithCopyWarning: \n",
      "A value is trying to be set on a copy of a slice from a DataFrame.\n",
      "Try using .loc[row_indexer,col_indexer] = value instead\n",
      "\n",
      "See the caveats in the documentation: https://pandas.pydata.org/pandas-docs/stable/user_guide/indexing.html#returning-a-view-versus-a-copy\n",
      "  df_filtered[f'SST_lag_{i}'] = df_filtered['SST'].shift(i)\n",
      "C:\\Users\\52341\\AppData\\Local\\Temp\\ipykernel_8796\\619420718.py:5: SettingWithCopyWarning: \n",
      "A value is trying to be set on a copy of a slice from a DataFrame.\n",
      "Try using .loc[row_indexer,col_indexer] = value instead\n",
      "\n",
      "See the caveats in the documentation: https://pandas.pydata.org/pandas-docs/stable/user_guide/indexing.html#returning-a-view-versus-a-copy\n",
      "  df_filtered[f'SST_lag_{i}'] = df_filtered['SST'].shift(i)\n",
      "C:\\Users\\52341\\AppData\\Local\\Temp\\ipykernel_8796\\619420718.py:5: SettingWithCopyWarning: \n",
      "A value is trying to be set on a copy of a slice from a DataFrame.\n",
      "Try using .loc[row_indexer,col_indexer] = value instead\n",
      "\n",
      "See the caveats in the documentation: https://pandas.pydata.org/pandas-docs/stable/user_guide/indexing.html#returning-a-view-versus-a-copy\n",
      "  df_filtered[f'SST_lag_{i}'] = df_filtered['SST'].shift(i)\n",
      "C:\\Users\\52341\\AppData\\Local\\Temp\\ipykernel_8796\\619420718.py:5: SettingWithCopyWarning: \n",
      "A value is trying to be set on a copy of a slice from a DataFrame.\n",
      "Try using .loc[row_indexer,col_indexer] = value instead\n",
      "\n",
      "See the caveats in the documentation: https://pandas.pydata.org/pandas-docs/stable/user_guide/indexing.html#returning-a-view-versus-a-copy\n",
      "  df_filtered[f'SST_lag_{i}'] = df_filtered['SST'].shift(i)\n",
      "C:\\Users\\52341\\AppData\\Local\\Temp\\ipykernel_8796\\619420718.py:5: SettingWithCopyWarning: \n",
      "A value is trying to be set on a copy of a slice from a DataFrame.\n",
      "Try using .loc[row_indexer,col_indexer] = value instead\n",
      "\n",
      "See the caveats in the documentation: https://pandas.pydata.org/pandas-docs/stable/user_guide/indexing.html#returning-a-view-versus-a-copy\n",
      "  df_filtered[f'SST_lag_{i}'] = df_filtered['SST'].shift(i)\n",
      "C:\\Users\\52341\\AppData\\Local\\Temp\\ipykernel_8796\\619420718.py:5: SettingWithCopyWarning: \n",
      "A value is trying to be set on a copy of a slice from a DataFrame.\n",
      "Try using .loc[row_indexer,col_indexer] = value instead\n",
      "\n",
      "See the caveats in the documentation: https://pandas.pydata.org/pandas-docs/stable/user_guide/indexing.html#returning-a-view-versus-a-copy\n",
      "  df_filtered[f'SST_lag_{i}'] = df_filtered['SST'].shift(i)\n",
      "C:\\Users\\52341\\AppData\\Local\\Temp\\ipykernel_8796\\619420718.py:5: SettingWithCopyWarning: \n",
      "A value is trying to be set on a copy of a slice from a DataFrame.\n",
      "Try using .loc[row_indexer,col_indexer] = value instead\n",
      "\n",
      "See the caveats in the documentation: https://pandas.pydata.org/pandas-docs/stable/user_guide/indexing.html#returning-a-view-versus-a-copy\n",
      "  df_filtered[f'SST_lag_{i}'] = df_filtered['SST'].shift(i)\n",
      "C:\\Users\\52341\\AppData\\Local\\Temp\\ipykernel_8796\\619420718.py:5: SettingWithCopyWarning: \n",
      "A value is trying to be set on a copy of a slice from a DataFrame.\n",
      "Try using .loc[row_indexer,col_indexer] = value instead\n",
      "\n",
      "See the caveats in the documentation: https://pandas.pydata.org/pandas-docs/stable/user_guide/indexing.html#returning-a-view-versus-a-copy\n",
      "  df_filtered[f'SST_lag_{i}'] = df_filtered['SST'].shift(i)\n",
      "C:\\Users\\52341\\AppData\\Local\\Temp\\ipykernel_8796\\619420718.py:5: SettingWithCopyWarning: \n",
      "A value is trying to be set on a copy of a slice from a DataFrame.\n",
      "Try using .loc[row_indexer,col_indexer] = value instead\n",
      "\n",
      "See the caveats in the documentation: https://pandas.pydata.org/pandas-docs/stable/user_guide/indexing.html#returning-a-view-versus-a-copy\n",
      "  df_filtered[f'SST_lag_{i}'] = df_filtered['SST'].shift(i)\n",
      "C:\\Users\\52341\\AppData\\Local\\Temp\\ipykernel_8796\\619420718.py:5: SettingWithCopyWarning: \n",
      "A value is trying to be set on a copy of a slice from a DataFrame.\n",
      "Try using .loc[row_indexer,col_indexer] = value instead\n",
      "\n",
      "See the caveats in the documentation: https://pandas.pydata.org/pandas-docs/stable/user_guide/indexing.html#returning-a-view-versus-a-copy\n",
      "  df_filtered[f'SST_lag_{i}'] = df_filtered['SST'].shift(i)\n",
      "C:\\Users\\52341\\AppData\\Local\\Temp\\ipykernel_8796\\619420718.py:5: SettingWithCopyWarning: \n",
      "A value is trying to be set on a copy of a slice from a DataFrame.\n",
      "Try using .loc[row_indexer,col_indexer] = value instead\n",
      "\n",
      "See the caveats in the documentation: https://pandas.pydata.org/pandas-docs/stable/user_guide/indexing.html#returning-a-view-versus-a-copy\n",
      "  df_filtered[f'SST_lag_{i}'] = df_filtered['SST'].shift(i)\n",
      "C:\\Users\\52341\\AppData\\Local\\Temp\\ipykernel_8796\\619420718.py:5: SettingWithCopyWarning: \n",
      "A value is trying to be set on a copy of a slice from a DataFrame.\n",
      "Try using .loc[row_indexer,col_indexer] = value instead\n",
      "\n",
      "See the caveats in the documentation: https://pandas.pydata.org/pandas-docs/stable/user_guide/indexing.html#returning-a-view-versus-a-copy\n",
      "  df_filtered[f'SST_lag_{i}'] = df_filtered['SST'].shift(i)\n",
      "C:\\Users\\52341\\AppData\\Local\\Temp\\ipykernel_8796\\619420718.py:5: SettingWithCopyWarning: \n",
      "A value is trying to be set on a copy of a slice from a DataFrame.\n",
      "Try using .loc[row_indexer,col_indexer] = value instead\n",
      "\n",
      "See the caveats in the documentation: https://pandas.pydata.org/pandas-docs/stable/user_guide/indexing.html#returning-a-view-versus-a-copy\n",
      "  df_filtered[f'SST_lag_{i}'] = df_filtered['SST'].shift(i)\n",
      "C:\\Users\\52341\\AppData\\Local\\Temp\\ipykernel_8796\\619420718.py:5: SettingWithCopyWarning: \n",
      "A value is trying to be set on a copy of a slice from a DataFrame.\n",
      "Try using .loc[row_indexer,col_indexer] = value instead\n",
      "\n",
      "See the caveats in the documentation: https://pandas.pydata.org/pandas-docs/stable/user_guide/indexing.html#returning-a-view-versus-a-copy\n",
      "  df_filtered[f'SST_lag_{i}'] = df_filtered['SST'].shift(i)\n",
      "C:\\Users\\52341\\AppData\\Local\\Temp\\ipykernel_8796\\619420718.py:5: SettingWithCopyWarning: \n",
      "A value is trying to be set on a copy of a slice from a DataFrame.\n",
      "Try using .loc[row_indexer,col_indexer] = value instead\n",
      "\n",
      "See the caveats in the documentation: https://pandas.pydata.org/pandas-docs/stable/user_guide/indexing.html#returning-a-view-versus-a-copy\n",
      "  df_filtered[f'SST_lag_{i}'] = df_filtered['SST'].shift(i)\n",
      "C:\\Users\\52341\\AppData\\Local\\Temp\\ipykernel_8796\\619420718.py:5: SettingWithCopyWarning: \n",
      "A value is trying to be set on a copy of a slice from a DataFrame.\n",
      "Try using .loc[row_indexer,col_indexer] = value instead\n",
      "\n",
      "See the caveats in the documentation: https://pandas.pydata.org/pandas-docs/stable/user_guide/indexing.html#returning-a-view-versus-a-copy\n",
      "  df_filtered[f'SST_lag_{i}'] = df_filtered['SST'].shift(i)\n",
      "C:\\Users\\52341\\AppData\\Local\\Temp\\ipykernel_8796\\619420718.py:5: SettingWithCopyWarning: \n",
      "A value is trying to be set on a copy of a slice from a DataFrame.\n",
      "Try using .loc[row_indexer,col_indexer] = value instead\n",
      "\n",
      "See the caveats in the documentation: https://pandas.pydata.org/pandas-docs/stable/user_guide/indexing.html#returning-a-view-versus-a-copy\n",
      "  df_filtered[f'SST_lag_{i}'] = df_filtered['SST'].shift(i)\n",
      "C:\\Users\\52341\\AppData\\Local\\Temp\\ipykernel_8796\\619420718.py:5: SettingWithCopyWarning: \n",
      "A value is trying to be set on a copy of a slice from a DataFrame.\n",
      "Try using .loc[row_indexer,col_indexer] = value instead\n",
      "\n",
      "See the caveats in the documentation: https://pandas.pydata.org/pandas-docs/stable/user_guide/indexing.html#returning-a-view-versus-a-copy\n",
      "  df_filtered[f'SST_lag_{i}'] = df_filtered['SST'].shift(i)\n",
      "C:\\Users\\52341\\AppData\\Local\\Temp\\ipykernel_8796\\619420718.py:5: SettingWithCopyWarning: \n",
      "A value is trying to be set on a copy of a slice from a DataFrame.\n",
      "Try using .loc[row_indexer,col_indexer] = value instead\n",
      "\n",
      "See the caveats in the documentation: https://pandas.pydata.org/pandas-docs/stable/user_guide/indexing.html#returning-a-view-versus-a-copy\n",
      "  df_filtered[f'SST_lag_{i}'] = df_filtered['SST'].shift(i)\n",
      "C:\\Users\\52341\\AppData\\Local\\Temp\\ipykernel_8796\\619420718.py:5: SettingWithCopyWarning: \n",
      "A value is trying to be set on a copy of a slice from a DataFrame.\n",
      "Try using .loc[row_indexer,col_indexer] = value instead\n",
      "\n",
      "See the caveats in the documentation: https://pandas.pydata.org/pandas-docs/stable/user_guide/indexing.html#returning-a-view-versus-a-copy\n",
      "  df_filtered[f'SST_lag_{i}'] = df_filtered['SST'].shift(i)\n",
      "C:\\Users\\52341\\AppData\\Local\\Temp\\ipykernel_8796\\619420718.py:5: SettingWithCopyWarning: \n",
      "A value is trying to be set on a copy of a slice from a DataFrame.\n",
      "Try using .loc[row_indexer,col_indexer] = value instead\n",
      "\n",
      "See the caveats in the documentation: https://pandas.pydata.org/pandas-docs/stable/user_guide/indexing.html#returning-a-view-versus-a-copy\n",
      "  df_filtered[f'SST_lag_{i}'] = df_filtered['SST'].shift(i)\n",
      "C:\\Users\\52341\\AppData\\Local\\Temp\\ipykernel_8796\\619420718.py:5: SettingWithCopyWarning: \n",
      "A value is trying to be set on a copy of a slice from a DataFrame.\n",
      "Try using .loc[row_indexer,col_indexer] = value instead\n",
      "\n",
      "See the caveats in the documentation: https://pandas.pydata.org/pandas-docs/stable/user_guide/indexing.html#returning-a-view-versus-a-copy\n",
      "  df_filtered[f'SST_lag_{i}'] = df_filtered['SST'].shift(i)\n",
      "C:\\Users\\52341\\AppData\\Local\\Temp\\ipykernel_8796\\619420718.py:5: SettingWithCopyWarning: \n",
      "A value is trying to be set on a copy of a slice from a DataFrame.\n",
      "Try using .loc[row_indexer,col_indexer] = value instead\n",
      "\n",
      "See the caveats in the documentation: https://pandas.pydata.org/pandas-docs/stable/user_guide/indexing.html#returning-a-view-versus-a-copy\n",
      "  df_filtered[f'SST_lag_{i}'] = df_filtered['SST'].shift(i)\n",
      "C:\\Users\\52341\\AppData\\Local\\Temp\\ipykernel_8796\\619420718.py:5: SettingWithCopyWarning: \n",
      "A value is trying to be set on a copy of a slice from a DataFrame.\n",
      "Try using .loc[row_indexer,col_indexer] = value instead\n",
      "\n",
      "See the caveats in the documentation: https://pandas.pydata.org/pandas-docs/stable/user_guide/indexing.html#returning-a-view-versus-a-copy\n",
      "  df_filtered[f'SST_lag_{i}'] = df_filtered['SST'].shift(i)\n",
      "C:\\Users\\52341\\AppData\\Local\\Temp\\ipykernel_8796\\619420718.py:5: SettingWithCopyWarning: \n",
      "A value is trying to be set on a copy of a slice from a DataFrame.\n",
      "Try using .loc[row_indexer,col_indexer] = value instead\n",
      "\n",
      "See the caveats in the documentation: https://pandas.pydata.org/pandas-docs/stable/user_guide/indexing.html#returning-a-view-versus-a-copy\n",
      "  df_filtered[f'SST_lag_{i}'] = df_filtered['SST'].shift(i)\n",
      "C:\\Users\\52341\\AppData\\Local\\Temp\\ipykernel_8796\\619420718.py:5: SettingWithCopyWarning: \n",
      "A value is trying to be set on a copy of a slice from a DataFrame.\n",
      "Try using .loc[row_indexer,col_indexer] = value instead\n",
      "\n",
      "See the caveats in the documentation: https://pandas.pydata.org/pandas-docs/stable/user_guide/indexing.html#returning-a-view-versus-a-copy\n",
      "  df_filtered[f'SST_lag_{i}'] = df_filtered['SST'].shift(i)\n",
      "C:\\Users\\52341\\AppData\\Local\\Temp\\ipykernel_8796\\619420718.py:5: SettingWithCopyWarning: \n",
      "A value is trying to be set on a copy of a slice from a DataFrame.\n",
      "Try using .loc[row_indexer,col_indexer] = value instead\n",
      "\n",
      "See the caveats in the documentation: https://pandas.pydata.org/pandas-docs/stable/user_guide/indexing.html#returning-a-view-versus-a-copy\n",
      "  df_filtered[f'SST_lag_{i}'] = df_filtered['SST'].shift(i)\n",
      "C:\\Users\\52341\\AppData\\Local\\Temp\\ipykernel_8796\\619420718.py:5: SettingWithCopyWarning: \n",
      "A value is trying to be set on a copy of a slice from a DataFrame.\n",
      "Try using .loc[row_indexer,col_indexer] = value instead\n",
      "\n",
      "See the caveats in the documentation: https://pandas.pydata.org/pandas-docs/stable/user_guide/indexing.html#returning-a-view-versus-a-copy\n",
      "  df_filtered[f'SST_lag_{i}'] = df_filtered['SST'].shift(i)\n",
      "C:\\Users\\52341\\AppData\\Local\\Temp\\ipykernel_8796\\619420718.py:5: SettingWithCopyWarning: \n",
      "A value is trying to be set on a copy of a slice from a DataFrame.\n",
      "Try using .loc[row_indexer,col_indexer] = value instead\n",
      "\n",
      "See the caveats in the documentation: https://pandas.pydata.org/pandas-docs/stable/user_guide/indexing.html#returning-a-view-versus-a-copy\n",
      "  df_filtered[f'SST_lag_{i}'] = df_filtered['SST'].shift(i)\n",
      "C:\\Users\\52341\\AppData\\Local\\Temp\\ipykernel_8796\\619420718.py:5: SettingWithCopyWarning: \n",
      "A value is trying to be set on a copy of a slice from a DataFrame.\n",
      "Try using .loc[row_indexer,col_indexer] = value instead\n",
      "\n",
      "See the caveats in the documentation: https://pandas.pydata.org/pandas-docs/stable/user_guide/indexing.html#returning-a-view-versus-a-copy\n",
      "  df_filtered[f'SST_lag_{i}'] = df_filtered['SST'].shift(i)\n",
      "C:\\Users\\52341\\AppData\\Local\\Temp\\ipykernel_8796\\619420718.py:5: SettingWithCopyWarning: \n",
      "A value is trying to be set on a copy of a slice from a DataFrame.\n",
      "Try using .loc[row_indexer,col_indexer] = value instead\n",
      "\n",
      "See the caveats in the documentation: https://pandas.pydata.org/pandas-docs/stable/user_guide/indexing.html#returning-a-view-versus-a-copy\n",
      "  df_filtered[f'SST_lag_{i}'] = df_filtered['SST'].shift(i)\n",
      "C:\\Users\\52341\\AppData\\Local\\Temp\\ipykernel_8796\\619420718.py:5: SettingWithCopyWarning: \n",
      "A value is trying to be set on a copy of a slice from a DataFrame.\n",
      "Try using .loc[row_indexer,col_indexer] = value instead\n",
      "\n",
      "See the caveats in the documentation: https://pandas.pydata.org/pandas-docs/stable/user_guide/indexing.html#returning-a-view-versus-a-copy\n",
      "  df_filtered[f'SST_lag_{i}'] = df_filtered['SST'].shift(i)\n",
      "C:\\Users\\52341\\AppData\\Local\\Temp\\ipykernel_8796\\619420718.py:5: SettingWithCopyWarning: \n",
      "A value is trying to be set on a copy of a slice from a DataFrame.\n",
      "Try using .loc[row_indexer,col_indexer] = value instead\n",
      "\n",
      "See the caveats in the documentation: https://pandas.pydata.org/pandas-docs/stable/user_guide/indexing.html#returning-a-view-versus-a-copy\n",
      "  df_filtered[f'SST_lag_{i}'] = df_filtered['SST'].shift(i)\n",
      "C:\\Users\\52341\\AppData\\Local\\Temp\\ipykernel_8796\\619420718.py:5: SettingWithCopyWarning: \n",
      "A value is trying to be set on a copy of a slice from a DataFrame.\n",
      "Try using .loc[row_indexer,col_indexer] = value instead\n",
      "\n",
      "See the caveats in the documentation: https://pandas.pydata.org/pandas-docs/stable/user_guide/indexing.html#returning-a-view-versus-a-copy\n",
      "  df_filtered[f'SST_lag_{i}'] = df_filtered['SST'].shift(i)\n",
      "C:\\Users\\52341\\AppData\\Local\\Temp\\ipykernel_8796\\619420718.py:5: SettingWithCopyWarning: \n",
      "A value is trying to be set on a copy of a slice from a DataFrame.\n",
      "Try using .loc[row_indexer,col_indexer] = value instead\n",
      "\n",
      "See the caveats in the documentation: https://pandas.pydata.org/pandas-docs/stable/user_guide/indexing.html#returning-a-view-versus-a-copy\n",
      "  df_filtered[f'SST_lag_{i}'] = df_filtered['SST'].shift(i)\n"
     ]
    }
   ],
   "source": [
    "# Crear las series retardadas\n",
    "n_pasados = 36\n",
    "n_futuros = 6\n",
    "for i in range(1, n_pasados + 1):\n",
    "    df_filtered[f'SST_lag_{i}'] = df_filtered['SST'].shift(i)\n"
   ],
   "metadata": {
    "collapsed": false,
    "ExecuteTime": {
     "end_time": "2024-03-21T05:19:50.496818900Z",
     "start_time": "2024-03-21T05:19:50.434179300Z"
    }
   }
  },
  {
   "cell_type": "code",
   "execution_count": 6,
   "outputs": [
    {
     "name": "stderr",
     "output_type": "stream",
     "text": [
      "C:\\Users\\52341\\AppData\\Local\\Temp\\ipykernel_8796\\1108899115.py:2: SettingWithCopyWarning: \n",
      "A value is trying to be set on a copy of a slice from a DataFrame\n",
      "\n",
      "See the caveats in the documentation: https://pandas.pydata.org/pandas-docs/stable/user_guide/indexing.html#returning-a-view-versus-a-copy\n",
      "  df_filtered.dropna(inplace=True)\n"
     ]
    }
   ],
   "source": [
    "# Eliminar las filas con valores NaN resultantes del desplazamiento\n",
    "df_filtered.dropna(inplace=True)"
   ],
   "metadata": {
    "collapsed": false,
    "ExecuteTime": {
     "end_time": "2024-03-21T05:19:51.249470400Z",
     "start_time": "2024-03-21T05:19:51.186815700Z"
    }
   }
  },
  {
   "cell_type": "code",
   "execution_count": 7,
   "outputs": [
    {
     "name": "stderr",
     "output_type": "stream",
     "text": [
      "C:\\Users\\52341\\AppData\\Local\\Temp\\ipykernel_8796\\3360370975.py:3: SettingWithCopyWarning: \n",
      "A value is trying to be set on a copy of a slice from a DataFrame.\n",
      "Try using .loc[row_indexer,col_indexer] = value instead\n",
      "\n",
      "See the caveats in the documentation: https://pandas.pydata.org/pandas-docs/stable/user_guide/indexing.html#returning-a-view-versus-a-copy\n",
      "  df_filtered['SST'] = scaler.fit_transform(df_filtered[['SST']])\n"
     ]
    }
   ],
   "source": [
    "# Normalizar solo la columna 'SST'\n",
    "scaler = MinMaxScaler()\n",
    "df_filtered['SST'] = scaler.fit_transform(df_filtered[['SST']])"
   ],
   "metadata": {
    "collapsed": false,
    "ExecuteTime": {
     "end_time": "2024-03-21T05:19:51.748854600Z",
     "start_time": "2024-03-21T05:19:51.733232600Z"
    }
   }
  },
  {
   "cell_type": "code",
   "execution_count": 8,
   "outputs": [],
   "source": [
    "# Preparar los datos para la LSTM\n",
    "def crear_secuencia(datos, n_pasados, n_futuros):\n",
    "    X, y = [], []\n",
    "    for i in range(n_pasados, len(datos) - n_futuros + 1):\n",
    "        X.append(datos[i-n_pasados:i])\n",
    "        y.append(datos[i+n_futuros-1])\n",
    "    return np.array(X), np.array(y)\n",
    "\n",
    "X, y = crear_secuencia(df_filtered['SST'].values, n_pasados, n_futuros)\n",
    "\n",
    "# Reshape para la LSTM [muestras, pasos de tiempo, características]\n",
    "X = X.reshape((X.shape[0], X.shape[1], 1))\n"
   ],
   "metadata": {
    "collapsed": false,
    "ExecuteTime": {
     "end_time": "2024-03-21T05:19:52.373698800Z",
     "start_time": "2024-03-21T05:19:52.342626200Z"
    }
   }
  },
  {
   "cell_type": "code",
   "execution_count": 9,
   "outputs": [
    {
     "name": "stdout",
     "output_type": "stream",
     "text": [
      "WARNING:tensorflow:From C:\\Users\\52341\\Desktop\\Test TAAP\\lib\\site-packages\\keras\\src\\backend.py:873: The name tf.get_default_graph is deprecated. Please use tf.compat.v1.get_default_graph instead.\n",
      "\n",
      "WARNING:tensorflow:From C:\\Users\\52341\\Desktop\\Test TAAP\\lib\\site-packages\\keras\\src\\optimizers\\__init__.py:309: The name tf.train.Optimizer is deprecated. Please use tf.compat.v1.train.Optimizer instead.\n",
      "\n",
      "Epoch 1/100\n",
      "WARNING:tensorflow:From C:\\Users\\52341\\Desktop\\Test TAAP\\lib\\site-packages\\keras\\src\\utils\\tf_utils.py:492: The name tf.ragged.RaggedTensorValue is deprecated. Please use tf.compat.v1.ragged.RaggedTensorValue instead.\n",
      "\n",
      "14/14 - 2s - loss: 0.2339 - 2s/epoch - 132ms/step\n",
      "Epoch 2/100\n",
      "14/14 - 0s - loss: 0.0650 - 94ms/epoch - 7ms/step\n",
      "Epoch 3/100\n",
      "14/14 - 0s - loss: 0.0544 - 125ms/epoch - 9ms/step\n",
      "Epoch 4/100\n",
      "14/14 - 0s - loss: 0.0470 - 94ms/epoch - 7ms/step\n",
      "Epoch 5/100\n",
      "14/14 - 0s - loss: 0.0425 - 94ms/epoch - 7ms/step\n",
      "Epoch 6/100\n",
      "14/14 - 0s - loss: 0.0372 - 116ms/epoch - 8ms/step\n",
      "Epoch 7/100\n",
      "14/14 - 0s - loss: 0.0306 - 94ms/epoch - 7ms/step\n",
      "Epoch 8/100\n",
      "14/14 - 0s - loss: 0.0225 - 110ms/epoch - 8ms/step\n",
      "Epoch 9/100\n",
      "14/14 - 0s - loss: 0.0139 - 110ms/epoch - 8ms/step\n",
      "Epoch 10/100\n",
      "14/14 - 0s - loss: 0.0098 - 94ms/epoch - 7ms/step\n",
      "Epoch 11/100\n",
      "14/14 - 0s - loss: 0.0093 - 94ms/epoch - 7ms/step\n",
      "Epoch 12/100\n",
      "14/14 - 0s - loss: 0.0091 - 115ms/epoch - 8ms/step\n",
      "Epoch 13/100\n",
      "14/14 - 0s - loss: 0.0090 - 105ms/epoch - 8ms/step\n",
      "Epoch 14/100\n",
      "14/14 - 0s - loss: 0.0088 - 110ms/epoch - 8ms/step\n",
      "Epoch 15/100\n",
      "14/14 - 0s - loss: 0.0087 - 100ms/epoch - 7ms/step\n",
      "Epoch 16/100\n",
      "14/14 - 0s - loss: 0.0085 - 110ms/epoch - 8ms/step\n",
      "Epoch 17/100\n",
      "14/14 - 0s - loss: 0.0083 - 94ms/epoch - 7ms/step\n",
      "Epoch 18/100\n",
      "14/14 - 0s - loss: 0.0082 - 110ms/epoch - 8ms/step\n",
      "Epoch 19/100\n",
      "14/14 - 0s - loss: 0.0083 - 110ms/epoch - 8ms/step\n",
      "Epoch 20/100\n",
      "14/14 - 0s - loss: 0.0080 - 100ms/epoch - 7ms/step\n",
      "Epoch 21/100\n",
      "14/14 - 0s - loss: 0.0082 - 110ms/epoch - 8ms/step\n",
      "Epoch 22/100\n",
      "14/14 - 0s - loss: 0.0079 - 94ms/epoch - 7ms/step\n",
      "Epoch 23/100\n",
      "14/14 - 0s - loss: 0.0078 - 110ms/epoch - 8ms/step\n",
      "Epoch 24/100\n",
      "14/14 - 0s - loss: 0.0078 - 110ms/epoch - 8ms/step\n",
      "Epoch 25/100\n",
      "14/14 - 0s - loss: 0.0077 - 100ms/epoch - 7ms/step\n",
      "Epoch 26/100\n",
      "14/14 - 0s - loss: 0.0079 - 110ms/epoch - 8ms/step\n",
      "Epoch 27/100\n",
      "14/14 - 0s - loss: 0.0075 - 110ms/epoch - 8ms/step\n",
      "Epoch 28/100\n",
      "14/14 - 0s - loss: 0.0074 - 110ms/epoch - 8ms/step\n",
      "Epoch 29/100\n",
      "14/14 - 0s - loss: 0.0075 - 112ms/epoch - 8ms/step\n",
      "Epoch 30/100\n",
      "14/14 - 0s - loss: 0.0074 - 108ms/epoch - 8ms/step\n",
      "Epoch 31/100\n",
      "14/14 - 0s - loss: 0.0073 - 110ms/epoch - 8ms/step\n",
      "Epoch 32/100\n",
      "14/14 - 0s - loss: 0.0073 - 94ms/epoch - 7ms/step\n",
      "Epoch 33/100\n",
      "14/14 - 0s - loss: 0.0077 - 94ms/epoch - 7ms/step\n",
      "Epoch 34/100\n",
      "14/14 - 0s - loss: 0.0073 - 118ms/epoch - 8ms/step\n",
      "Epoch 35/100\n",
      "14/14 - 0s - loss: 0.0072 - 110ms/epoch - 8ms/step\n",
      "Epoch 36/100\n",
      "14/14 - 0s - loss: 0.0075 - 94ms/epoch - 7ms/step\n",
      "Epoch 37/100\n",
      "14/14 - 0s - loss: 0.0079 - 110ms/epoch - 8ms/step\n",
      "Epoch 38/100\n",
      "14/14 - 0s - loss: 0.0077 - 110ms/epoch - 8ms/step\n",
      "Epoch 39/100\n",
      "14/14 - 0s - loss: 0.0070 - 94ms/epoch - 7ms/step\n",
      "Epoch 40/100\n",
      "14/14 - 0s - loss: 0.0070 - 94ms/epoch - 7ms/step\n",
      "Epoch 41/100\n",
      "14/14 - 0s - loss: 0.0070 - 110ms/epoch - 8ms/step\n",
      "Epoch 42/100\n",
      "14/14 - 0s - loss: 0.0072 - 110ms/epoch - 8ms/step\n",
      "Epoch 43/100\n",
      "14/14 - 0s - loss: 0.0069 - 110ms/epoch - 8ms/step\n",
      "Epoch 44/100\n",
      "14/14 - 0s - loss: 0.0072 - 107ms/epoch - 8ms/step\n",
      "Epoch 45/100\n",
      "14/14 - 0s - loss: 0.0076 - 103ms/epoch - 7ms/step\n",
      "Epoch 46/100\n",
      "14/14 - 0s - loss: 0.0071 - 110ms/epoch - 8ms/step\n",
      "Epoch 47/100\n",
      "14/14 - 0s - loss: 0.0071 - 110ms/epoch - 8ms/step\n",
      "Epoch 48/100\n",
      "14/14 - 0s - loss: 0.0073 - 110ms/epoch - 8ms/step\n",
      "Epoch 49/100\n",
      "14/14 - 0s - loss: 0.0070 - 110ms/epoch - 8ms/step\n",
      "Epoch 50/100\n",
      "14/14 - 0s - loss: 0.0070 - 110ms/epoch - 8ms/step\n",
      "Epoch 51/100\n",
      "14/14 - 0s - loss: 0.0069 - 112ms/epoch - 8ms/step\n",
      "Epoch 52/100\n",
      "14/14 - 0s - loss: 0.0067 - 110ms/epoch - 8ms/step\n",
      "Epoch 53/100\n",
      "14/14 - 0s - loss: 0.0070 - 102ms/epoch - 7ms/step\n",
      "Epoch 54/100\n",
      "14/14 - 0s - loss: 0.0077 - 125ms/epoch - 9ms/step\n",
      "Epoch 55/100\n",
      "14/14 - 0s - loss: 0.0070 - 110ms/epoch - 8ms/step\n",
      "Epoch 56/100\n",
      "14/14 - 0s - loss: 0.0074 - 94ms/epoch - 7ms/step\n",
      "Epoch 57/100\n",
      "14/14 - 0s - loss: 0.0069 - 110ms/epoch - 8ms/step\n",
      "Epoch 58/100\n",
      "14/14 - 0s - loss: 0.0069 - 124ms/epoch - 9ms/step\n",
      "Epoch 59/100\n",
      "14/14 - 0s - loss: 0.0067 - 110ms/epoch - 8ms/step\n",
      "Epoch 60/100\n",
      "14/14 - 0s - loss: 0.0068 - 94ms/epoch - 7ms/step\n",
      "Epoch 61/100\n",
      "14/14 - 0s - loss: 0.0069 - 110ms/epoch - 8ms/step\n",
      "Epoch 62/100\n",
      "14/14 - 0s - loss: 0.0066 - 116ms/epoch - 8ms/step\n",
      "Epoch 63/100\n",
      "14/14 - 0s - loss: 0.0070 - 94ms/epoch - 7ms/step\n",
      "Epoch 64/100\n",
      "14/14 - 0s - loss: 0.0068 - 94ms/epoch - 7ms/step\n",
      "Epoch 65/100\n",
      "14/14 - 0s - loss: 0.0068 - 115ms/epoch - 8ms/step\n",
      "Epoch 66/100\n",
      "14/14 - 0s - loss: 0.0070 - 167ms/epoch - 12ms/step\n",
      "Epoch 67/100\n",
      "14/14 - 0s - loss: 0.0068 - 116ms/epoch - 8ms/step\n",
      "Epoch 68/100\n",
      "14/14 - 0s - loss: 0.0066 - 127ms/epoch - 9ms/step\n",
      "Epoch 69/100\n",
      "14/14 - 0s - loss: 0.0070 - 110ms/epoch - 8ms/step\n",
      "Epoch 70/100\n",
      "14/14 - 0s - loss: 0.0070 - 94ms/epoch - 7ms/step\n",
      "Epoch 71/100\n",
      "14/14 - 0s - loss: 0.0069 - 172ms/epoch - 12ms/step\n",
      "Epoch 72/100\n",
      "14/14 - 0s - loss: 0.0079 - 112ms/epoch - 8ms/step\n",
      "Epoch 73/100\n",
      "14/14 - 0s - loss: 0.0068 - 125ms/epoch - 9ms/step\n",
      "Epoch 74/100\n",
      "14/14 - 0s - loss: 0.0068 - 110ms/epoch - 8ms/step\n",
      "Epoch 75/100\n",
      "14/14 - 0s - loss: 0.0068 - 99ms/epoch - 7ms/step\n",
      "Epoch 76/100\n",
      "14/14 - 0s - loss: 0.0066 - 94ms/epoch - 7ms/step\n",
      "Epoch 77/100\n",
      "14/14 - 0s - loss: 0.0069 - 129ms/epoch - 9ms/step\n",
      "Epoch 78/100\n",
      "14/14 - 0s - loss: 0.0069 - 117ms/epoch - 8ms/step\n",
      "Epoch 79/100\n",
      "14/14 - 0s - loss: 0.0067 - 103ms/epoch - 7ms/step\n",
      "Epoch 80/100\n",
      "14/14 - 0s - loss: 0.0068 - 117ms/epoch - 8ms/step\n",
      "Epoch 81/100\n",
      "14/14 - 0s - loss: 0.0067 - 110ms/epoch - 8ms/step\n",
      "Epoch 82/100\n",
      "14/14 - 0s - loss: 0.0066 - 125ms/epoch - 9ms/step\n",
      "Epoch 83/100\n",
      "14/14 - 0s - loss: 0.0067 - 114ms/epoch - 8ms/step\n",
      "Epoch 84/100\n",
      "14/14 - 0s - loss: 0.0065 - 125ms/epoch - 9ms/step\n",
      "Epoch 85/100\n",
      "14/14 - 0s - loss: 0.0065 - 134ms/epoch - 10ms/step\n",
      "Epoch 86/100\n",
      "14/14 - 0s - loss: 0.0067 - 117ms/epoch - 8ms/step\n",
      "Epoch 87/100\n",
      "14/14 - 0s - loss: 0.0067 - 110ms/epoch - 8ms/step\n",
      "Epoch 88/100\n",
      "14/14 - 0s - loss: 0.0064 - 110ms/epoch - 8ms/step\n",
      "Epoch 89/100\n",
      "14/14 - 0s - loss: 0.0066 - 136ms/epoch - 10ms/step\n",
      "Epoch 90/100\n",
      "14/14 - 0s - loss: 0.0064 - 108ms/epoch - 8ms/step\n",
      "Epoch 91/100\n",
      "14/14 - 0s - loss: 0.0067 - 95ms/epoch - 7ms/step\n",
      "Epoch 92/100\n",
      "14/14 - 0s - loss: 0.0069 - 94ms/epoch - 7ms/step\n",
      "Epoch 93/100\n",
      "14/14 - 0s - loss: 0.0070 - 132ms/epoch - 9ms/step\n",
      "Epoch 94/100\n",
      "14/14 - 0s - loss: 0.0071 - 127ms/epoch - 9ms/step\n",
      "Epoch 95/100\n",
      "14/14 - 0s - loss: 0.0068 - 129ms/epoch - 9ms/step\n",
      "Epoch 96/100\n",
      "14/14 - 0s - loss: 0.0072 - 100ms/epoch - 7ms/step\n",
      "Epoch 97/100\n",
      "14/14 - 0s - loss: 0.0071 - 109ms/epoch - 8ms/step\n",
      "Epoch 98/100\n",
      "14/14 - 0s - loss: 0.0067 - 110ms/epoch - 8ms/step\n",
      "Epoch 99/100\n",
      "14/14 - 0s - loss: 0.0067 - 125ms/epoch - 9ms/step\n",
      "Epoch 100/100\n",
      "14/14 - 0s - loss: 0.0065 - 110ms/epoch - 8ms/step\n"
     ]
    },
    {
     "data": {
      "text/plain": "<keras.src.callbacks.History at 0x19380fc8b20>"
     },
     "execution_count": 9,
     "metadata": {},
     "output_type": "execute_result"
    }
   ],
   "source": [
    "# Construir el modelo LSTM\n",
    "model = Sequential()\n",
    "model.add(LSTM(50, input_shape=(X.shape[1], 1)))\n",
    "model.add(Dense(1))\n",
    "model.compile(optimizer='adam', loss='mse')\n",
    "\n",
    "# Entrenar el modelo con el 100% de los datos\n",
    "model.fit(X, y, epochs=100, batch_size=32, verbose=2)"
   ],
   "metadata": {
    "collapsed": false,
    "ExecuteTime": {
     "end_time": "2024-03-21T05:20:06.444227800Z",
     "start_time": "2024-03-21T05:19:52.931746Z"
    }
   }
  },
  {
   "cell_type": "code",
   "execution_count": 10,
   "outputs": [],
   "source": [
    "# Preparar los datos para hacer predicciones de 2010 a 2020\n",
    "fecha_inicio = pd.to_datetime('2010-01-01')\n",
    "fecha_fin = pd.to_datetime('2020-12-31')\n",
    "df_pred = df_filtered[(df_filtered['Fecha'] >= fecha_inicio) & (df_filtered['Fecha'] <= fecha_fin)]\n",
    "\n"
   ],
   "metadata": {
    "collapsed": false,
    "ExecuteTime": {
     "end_time": "2024-03-21T05:20:06.491105100Z",
     "start_time": "2024-03-21T05:20:06.444227800Z"
    }
   }
  },
  {
   "cell_type": "code",
   "execution_count": 11,
   "outputs": [
    {
     "name": "stderr",
     "output_type": "stream",
     "text": [
      "C:\\Users\\52341\\AppData\\Local\\Temp\\ipykernel_8796\\1425372354.py:3: SettingWithCopyWarning: \n",
      "A value is trying to be set on a copy of a slice from a DataFrame.\n",
      "Try using .loc[row_indexer,col_indexer] = value instead\n",
      "\n",
      "See the caveats in the documentation: https://pandas.pydata.org/pandas-docs/stable/user_guide/indexing.html#returning-a-view-versus-a-copy\n",
      "  df_pred[f'SST_lag_{i}'] = df_pred['SST'].shift(i)\n"
     ]
    }
   ],
   "source": [
    "# Crear las series retardadas para la predicción\n",
    "for i in range(1, n_pasados + 1):\n",
    "    df_pred[f'SST_lag_{i}'] = df_pred['SST'].shift(i)"
   ],
   "metadata": {
    "collapsed": false,
    "ExecuteTime": {
     "end_time": "2024-03-21T05:20:06.491105100Z",
     "start_time": "2024-03-21T05:20:06.459856500Z"
    }
   }
  },
  {
   "cell_type": "code",
   "execution_count": 12,
   "outputs": [
    {
     "name": "stderr",
     "output_type": "stream",
     "text": [
      "C:\\Users\\52341\\AppData\\Local\\Temp\\ipykernel_8796\\3739469728.py:2: SettingWithCopyWarning: \n",
      "A value is trying to be set on a copy of a slice from a DataFrame\n",
      "\n",
      "See the caveats in the documentation: https://pandas.pydata.org/pandas-docs/stable/user_guide/indexing.html#returning-a-view-versus-a-copy\n",
      "  df_pred.dropna(inplace=True)\n"
     ]
    }
   ],
   "source": [
    "# Eliminar filas con valores NaN\n",
    "df_pred.dropna(inplace=True)"
   ],
   "metadata": {
    "collapsed": false,
    "ExecuteTime": {
     "end_time": "2024-03-21T05:20:06.491105100Z",
     "start_time": "2024-03-21T05:20:06.491105100Z"
    }
   }
  },
  {
   "cell_type": "code",
   "execution_count": 13,
   "outputs": [
    {
     "name": "stdout",
     "output_type": "stream",
     "text": [
      "3/3 [==============================] - 0s 0s/step\n"
     ]
    }
   ],
   "source": [
    "# Hacer predicciones\n",
    "X_pred = np.array([df_pred[f'SST_lag_{i}'].values for i in range(1, n_pasados + 1)]).T\n",
    "X_pred = X_pred.reshape((X_pred.shape[0], X_pred.shape[1], 1))\n",
    "y_pred = model.predict(X_pred)\n",
    "y_pred = scaler.inverse_transform(y_pred)\n"
   ],
   "metadata": {
    "collapsed": false,
    "ExecuteTime": {
     "end_time": "2024-03-21T05:20:07.010361200Z",
     "start_time": "2024-03-21T05:20:06.491105100Z"
    }
   }
  },
  {
   "cell_type": "code",
   "execution_count": 14,
   "outputs": [],
   "source": [
    "fecha_inicio = pd.to_datetime('2013-01-01')\n",
    "fecha_fin = pd.to_datetime('2020-12-31')"
   ],
   "metadata": {
    "collapsed": false,
    "ExecuteTime": {
     "end_time": "2024-03-21T05:20:07.058108500Z",
     "start_time": "2024-03-21T05:20:07.010361200Z"
    }
   }
  },
  {
   "cell_type": "code",
   "execution_count": 15,
   "outputs": [],
   "source": [
    "df_reales = df_filtered2[(df_filtered2['Fecha'] >= fecha_inicio) & (df_filtered2['Fecha'] <= fecha_fin)]"
   ],
   "metadata": {
    "collapsed": false,
    "ExecuteTime": {
     "end_time": "2024-03-21T05:20:07.058108500Z",
     "start_time": "2024-03-21T05:20:07.026211900Z"
    }
   }
  },
  {
   "cell_type": "code",
   "execution_count": 16,
   "outputs": [
    {
     "data": {
      "text/plain": "<Figure size 1200x600 with 1 Axes>",
      "image/png": "[encoded data removed]"
     },
     "metadata": {},
     "output_type": "display_data"
    }
   ],
   "source": [
    "plt.figure(figsize=(12, 6))\n",
    "plt.plot(df_reales['Fecha'], df_reales['SST'], label='Temperatura Real', color='blue')\n",
    "plt.plot(df_reales['Fecha'], y_pred[::-1], label='Predicción LSTM', color='red')\n",
    "plt.xlabel('Fecha')\n",
    "plt.ylabel('Temperatura SST')\n",
    "plt.title('Predicción de Temperaturas SST de 2010 a 2020')\n",
    "plt.legend()\n",
    "plt.show()"
   ],
   "metadata": {
    "collapsed": false,
    "ExecuteTime": {
     "end_time": "2024-03-21T05:20:07.356137700Z",
     "start_time": "2024-03-21T05:20:07.058108500Z"
    }
   }
  },
  {
   "cell_type": "code",
   "execution_count": null,
   "outputs": [],
   "source": [],
   "metadata": {
    "collapsed": false
   }
  }
 ],
 "metadata": {
  "kernelspec": {
   "display_name": "Python 3",
   "language": "python",
   "name": "python3"
  },
  "language_info": {
   "codemirror_mode": {
    "name": "ipython",
    "version": 2
   },
   "file_extension": ".py",
   "mimetype": "text/x-python",
   "name": "python",
   "nbconvert_exporter": "python",
   "pygments_lexer": "ipython2",
   "version": "2.7.6"
  }
 },
 "nbformat": 4,
 "nbformat_minor": 0
}
