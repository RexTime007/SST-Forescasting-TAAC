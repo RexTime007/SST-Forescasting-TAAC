{
 "cells": [
  {
   "cell_type": "code",
   "execution_count": 58,
   "outputs": [],
   "source": [
    "import pandas as pd\n",
    "from sklearn.preprocessing import StandardScaler\n",
    "from sklearn.ensemble import RandomForestRegressor\n",
    "from sklearn.model_selection import train_test_split\n",
    "import numpy as np\n",
    "import matplotlib.pyplot as plt\n",
    "# Cargar los datos (reemplaza esto con la ruta a tus datos)\n",
    "datos = pd.read_csv('datos_exportados_clean.csv')"
   ],
   "metadata": {
    "collapsed": false,
    "ExecuteTime": {
     "end_time": "2024-03-19T02:59:51.194320500Z",
     "start_time": "2024-03-19T02:59:50.419346600Z"
    }
   }
  },
  {
   "cell_type": "code",
   "execution_count": 59,
   "outputs": [],
   "source": [
    "# Preprocesamiento básico\n",
    "datos.dropna(subset=['SST'], inplace=True)"
   ],
   "metadata": {
    "collapsed": false,
    "ExecuteTime": {
     "end_time": "2024-03-19T02:59:51.230416100Z",
     "start_time": "2024-03-19T02:59:51.197848100Z"
    }
   }
  },
  {
   "cell_type": "code",
   "execution_count": 60,
   "outputs": [
    {
     "data": {
      "text/plain": "               Fecha  Latitud  Longitud       SST\n486      01-Sep-1981   31.125  -114.875  30.57000\n487      01-Sep-1981   31.375  -114.875  30.68500\n531      01-Sep-1981   30.125  -114.625  29.62067\n532      01-Sep-1981   30.375  -114.625  29.74567\n533      01-Sep-1981   30.625  -114.625  29.92100\n...              ...      ...       ...       ...\n1318940  01-Dec-2023   21.625  -105.625  27.27581\n1318941  01-Dec-2023   21.875  -105.625  27.01290\n1318985  01-Dec-2023   20.625  -105.375  27.19710\n1318987  01-Dec-2023   21.125  -105.375  27.37774\n1318988  01-Dec-2023   21.375  -105.375  27.38774\n\n[186436 rows x 4 columns]",
      "text/html": "<div>\n<style scoped>\n    .dataframe tbody tr th:only-of-type {\n        vertical-align: middle;\n    }\n\n    .dataframe tbody tr th {\n        vertical-align: top;\n    }\n\n    .dataframe thead th {\n        text-align: right;\n    }\n</style>\n<table border=\"1\" class=\"dataframe\">\n  <thead>\n    <tr style=\"text-align: right;\">\n      <th></th>\n      <th>Fecha</th>\n      <th>Latitud</th>\n      <th>Longitud</th>\n      <th>SST</th>\n    </tr>\n  </thead>\n  <tbody>\n    <tr>\n      <th>486</th>\n      <td>01-Sep-1981</td>\n      <td>31.125</td>\n      <td>-114.875</td>\n      <td>30.57000</td>\n    </tr>\n    <tr>\n      <th>487</th>\n      <td>01-Sep-1981</td>\n      <td>31.375</td>\n      <td>-114.875</td>\n      <td>30.68500</td>\n    </tr>\n    <tr>\n      <th>531</th>\n      <td>01-Sep-1981</td>\n      <td>30.125</td>\n      <td>-114.625</td>\n      <td>29.62067</td>\n    </tr>\n    <tr>\n      <th>532</th>\n      <td>01-Sep-1981</td>\n      <td>30.375</td>\n      <td>-114.625</td>\n      <td>29.74567</td>\n    </tr>\n    <tr>\n      <th>533</th>\n      <td>01-Sep-1981</td>\n      <td>30.625</td>\n      <td>-114.625</td>\n      <td>29.92100</td>\n    </tr>\n    <tr>\n      <th>...</th>\n      <td>...</td>\n      <td>...</td>\n      <td>...</td>\n      <td>...</td>\n    </tr>\n    <tr>\n      <th>1318940</th>\n      <td>01-Dec-2023</td>\n      <td>21.625</td>\n      <td>-105.625</td>\n      <td>27.27581</td>\n    </tr>\n    <tr>\n      <th>1318941</th>\n      <td>01-Dec-2023</td>\n      <td>21.875</td>\n      <td>-105.625</td>\n      <td>27.01290</td>\n    </tr>\n    <tr>\n      <th>1318985</th>\n      <td>01-Dec-2023</td>\n      <td>20.625</td>\n      <td>-105.375</td>\n      <td>27.19710</td>\n    </tr>\n    <tr>\n      <th>1318987</th>\n      <td>01-Dec-2023</td>\n      <td>21.125</td>\n      <td>-105.375</td>\n      <td>27.37774</td>\n    </tr>\n    <tr>\n      <th>1318988</th>\n      <td>01-Dec-2023</td>\n      <td>21.375</td>\n      <td>-105.375</td>\n      <td>27.38774</td>\n    </tr>\n  </tbody>\n</table>\n<p>186436 rows × 4 columns</p>\n</div>"
     },
     "execution_count": 60,
     "metadata": {},
     "output_type": "execute_result"
    }
   ],
   "source": [
    "datos"
   ],
   "metadata": {
    "collapsed": false,
    "ExecuteTime": {
     "end_time": "2024-03-19T02:59:55.707428900Z",
     "start_time": "2024-03-19T02:59:55.679509900Z"
    }
   }
  },
  {
   "cell_type": "code",
   "execution_count": 61,
   "outputs": [],
   "source": [
    "datos['Fecha'] = pd.to_datetime(datos['Fecha'])\n",
    "datos['Año'] = datos['Fecha'].dt.year\n",
    "datos['Mes'] = datos['Fecha'].dt.month\n",
    "X = datos[['Latitud', 'Longitud', 'Año', 'Mes']]\n",
    "y = datos['SST']"
   ],
   "metadata": {
    "collapsed": false,
    "ExecuteTime": {
     "end_time": "2024-03-19T02:59:56.709040800Z",
     "start_time": "2024-03-19T02:59:56.604133400Z"
    }
   }
  },
  {
   "cell_type": "code",
   "execution_count": 62,
   "outputs": [],
   "source": [
    "# Dividir los datos\n",
    "X_train, X_test, y_train, y_test = train_test_split(X, y, test_size=0.2, random_state=42)\n"
   ],
   "metadata": {
    "collapsed": false,
    "ExecuteTime": {
     "end_time": "2024-03-19T03:00:01.684253500Z",
     "start_time": "2024-03-19T03:00:01.623257800Z"
    }
   }
  },
  {
   "cell_type": "code",
   "execution_count": 63,
   "outputs": [
    {
     "data": {
      "text/plain": "         Latitud  Longitud   Año  Mes\n486       31.125  -114.875  1981    9\n487       31.375  -114.875  1981    9\n531       30.125  -114.625  1981    9\n532       30.375  -114.625  1981    9\n533       30.625  -114.625  1981    9\n...          ...       ...   ...  ...\n1318940   21.625  -105.625  2023   12\n1318941   21.875  -105.625  2023   12\n1318985   20.625  -105.375  2023   12\n1318987   21.125  -105.375  2023   12\n1318988   21.375  -105.375  2023   12\n\n[186436 rows x 4 columns]",
      "text/html": "<div>\n<style scoped>\n    .dataframe tbody tr th:only-of-type {\n        vertical-align: middle;\n    }\n\n    .dataframe tbody tr th {\n        vertical-align: top;\n    }\n\n    .dataframe thead th {\n        text-align: right;\n    }\n</style>\n<table border=\"1\" class=\"dataframe\">\n  <thead>\n    <tr style=\"text-align: right;\">\n      <th></th>\n      <th>Latitud</th>\n      <th>Longitud</th>\n      <th>Año</th>\n      <th>Mes</th>\n    </tr>\n  </thead>\n  <tbody>\n    <tr>\n      <th>486</th>\n      <td>31.125</td>\n      <td>-114.875</td>\n      <td>1981</td>\n      <td>9</td>\n    </tr>\n    <tr>\n      <th>487</th>\n      <td>31.375</td>\n      <td>-114.875</td>\n      <td>1981</td>\n      <td>9</td>\n    </tr>\n    <tr>\n      <th>531</th>\n      <td>30.125</td>\n      <td>-114.625</td>\n      <td>1981</td>\n      <td>9</td>\n    </tr>\n    <tr>\n      <th>532</th>\n      <td>30.375</td>\n      <td>-114.625</td>\n      <td>1981</td>\n      <td>9</td>\n    </tr>\n    <tr>\n      <th>533</th>\n      <td>30.625</td>\n      <td>-114.625</td>\n      <td>1981</td>\n      <td>9</td>\n    </tr>\n    <tr>\n      <th>...</th>\n      <td>...</td>\n      <td>...</td>\n      <td>...</td>\n      <td>...</td>\n    </tr>\n    <tr>\n      <th>1318940</th>\n      <td>21.625</td>\n      <td>-105.625</td>\n      <td>2023</td>\n      <td>12</td>\n    </tr>\n    <tr>\n      <th>1318941</th>\n      <td>21.875</td>\n      <td>-105.625</td>\n      <td>2023</td>\n      <td>12</td>\n    </tr>\n    <tr>\n      <th>1318985</th>\n      <td>20.625</td>\n      <td>-105.375</td>\n      <td>2023</td>\n      <td>12</td>\n    </tr>\n    <tr>\n      <th>1318987</th>\n      <td>21.125</td>\n      <td>-105.375</td>\n      <td>2023</td>\n      <td>12</td>\n    </tr>\n    <tr>\n      <th>1318988</th>\n      <td>21.375</td>\n      <td>-105.375</td>\n      <td>2023</td>\n      <td>12</td>\n    </tr>\n  </tbody>\n</table>\n<p>186436 rows × 4 columns</p>\n</div>"
     },
     "execution_count": 63,
     "metadata": {},
     "output_type": "execute_result"
    }
   ],
   "source": [
    "X"
   ],
   "metadata": {
    "collapsed": false,
    "ExecuteTime": {
     "end_time": "2024-03-19T03:00:02.467518800Z",
     "start_time": "2024-03-19T03:00:02.438539100Z"
    }
   }
  },
  {
   "cell_type": "code",
   "execution_count": 64,
   "outputs": [],
   "source": [
    "# Escalar los datos\n",
    "scaler = StandardScaler()\n",
    "X_train_scaled = scaler.fit_transform(X_train)\n",
    "X_test_scaled = scaler.transform(X_test)"
   ],
   "metadata": {
    "collapsed": false,
    "ExecuteTime": {
     "end_time": "2024-03-19T03:00:03.694175900Z",
     "start_time": "2024-03-19T03:00:03.667514300Z"
    }
   }
  },
  {
   "cell_type": "code",
   "execution_count": 64,
   "outputs": [],
   "source": [],
   "metadata": {
    "collapsed": false,
    "ExecuteTime": {
     "end_time": "2024-03-19T03:00:04.161284300Z",
     "start_time": "2024-03-19T03:00:04.137495100Z"
    }
   }
  },
  {
   "cell_type": "code",
   "execution_count": 65,
   "outputs": [
    {
     "data": {
      "text/plain": "RandomForestRegressor(random_state=42)",
      "text/html": "<style>#sk-container-id-4 {color: black;}#sk-container-id-4 pre{padding: 0;}#sk-container-id-4 div.sk-toggleable {background-color: white;}#sk-container-id-4 label.sk-toggleable__label {cursor: pointer;display: block;width: 100%;margin-bottom: 0;padding: 0.3em;box-sizing: border-box;text-align: center;}#sk-container-id-4 label.sk-toggleable__label-arrow:before {content: \"▸\";float: left;margin-right: 0.25em;color: #696969;}#sk-container-id-4 label.sk-toggleable__label-arrow:hover:before {color: black;}#sk-container-id-4 div.sk-estimator:hover label.sk-toggleable__label-arrow:before {color: black;}#sk-container-id-4 div.sk-toggleable__content {max-height: 0;max-width: 0;overflow: hidden;text-align: left;background-color: #f0f8ff;}#sk-container-id-4 div.sk-toggleable__content pre {margin: 0.2em;color: black;border-radius: 0.25em;background-color: #f0f8ff;}#sk-container-id-4 input.sk-toggleable__control:checked~div.sk-toggleable__content {max-height: 200px;max-width: 100%;overflow: auto;}#sk-container-id-4 input.sk-toggleable__control:checked~label.sk-toggleable__label-arrow:before {content: \"▾\";}#sk-container-id-4 div.sk-estimator input.sk-toggleable__control:checked~label.sk-toggleable__label {background-color: #d4ebff;}#sk-container-id-4 div.sk-label input.sk-toggleable__control:checked~label.sk-toggleable__label {background-color: #d4ebff;}#sk-container-id-4 input.sk-hidden--visually {border: 0;clip: rect(1px 1px 1px 1px);clip: rect(1px, 1px, 1px, 1px);height: 1px;margin: -1px;overflow: hidden;padding: 0;position: absolute;width: 1px;}#sk-container-id-4 div.sk-estimator {font-family: monospace;background-color: #f0f8ff;border: 1px dotted black;border-radius: 0.25em;box-sizing: border-box;margin-bottom: 0.5em;}#sk-container-id-4 div.sk-estimator:hover {background-color: #d4ebff;}#sk-container-id-4 div.sk-parallel-item::after {content: \"\";width: 100%;border-bottom: 1px solid gray;flex-grow: 1;}#sk-container-id-4 div.sk-label:hover label.sk-toggleable__label {background-color: #d4ebff;}#sk-container-id-4 div.sk-serial::before {content: \"\";position: absolute;border-left: 1px solid gray;box-sizing: border-box;top: 0;bottom: 0;left: 50%;z-index: 0;}#sk-container-id-4 div.sk-serial {display: flex;flex-direction: column;align-items: center;background-color: white;padding-right: 0.2em;padding-left: 0.2em;position: relative;}#sk-container-id-4 div.sk-item {position: relative;z-index: 1;}#sk-container-id-4 div.sk-parallel {display: flex;align-items: stretch;justify-content: center;background-color: white;position: relative;}#sk-container-id-4 div.sk-item::before, #sk-container-id-4 div.sk-parallel-item::before {content: \"\";position: absolute;border-left: 1px solid gray;box-sizing: border-box;top: 0;bottom: 0;left: 50%;z-index: -1;}#sk-container-id-4 div.sk-parallel-item {display: flex;flex-direction: column;z-index: 1;position: relative;background-color: white;}#sk-container-id-4 div.sk-parallel-item:first-child::after {align-self: flex-end;width: 50%;}#sk-container-id-4 div.sk-parallel-item:last-child::after {align-self: flex-start;width: 50%;}#sk-container-id-4 div.sk-parallel-item:only-child::after {width: 0;}#sk-container-id-4 div.sk-dashed-wrapped {border: 1px dashed gray;margin: 0 0.4em 0.5em 0.4em;box-sizing: border-box;padding-bottom: 0.4em;background-color: white;}#sk-container-id-4 div.sk-label label {font-family: monospace;font-weight: bold;display: inline-block;line-height: 1.2em;}#sk-container-id-4 div.sk-label-container {text-align: center;}#sk-container-id-4 div.sk-container {/* jupyter's `normalize.less` sets `[hidden] { display: none; }` but bootstrap.min.css set `[hidden] { display: none !important; }` so we also need the `!important` here to be able to override the default hidden behavior on the sphinx rendered scikit-learn.org. See: https://github.com/scikit-learn/scikit-learn/issues/21755 */display: inline-block !important;position: relative;}#sk-container-id-4 div.sk-text-repr-fallback {display: none;}</style><div id=\"sk-container-id-4\" class=\"sk-top-container\"><div class=\"sk-text-repr-fallback\"><pre>RandomForestRegressor(random_state=42)</pre><b>In a Jupyter environment, please rerun this cell to show the HTML representation or trust the notebook. <br />On GitHub, the HTML representation is unable to render, please try loading this page with nbviewer.org.</b></div><div class=\"sk-container\" hidden><div class=\"sk-item\"><div class=\"sk-estimator sk-toggleable\"><input class=\"sk-toggleable__control sk-hidden--visually\" id=\"sk-estimator-id-4\" type=\"checkbox\" checked><label for=\"sk-estimator-id-4\" class=\"sk-toggleable__label sk-toggleable__label-arrow\">RandomForestRegressor</label><div class=\"sk-toggleable__content\"><pre>RandomForestRegressor(random_state=42)</pre></div></div></div></div></div>"
     },
     "execution_count": 65,
     "metadata": {},
     "output_type": "execute_result"
    }
   ],
   "source": [
    "# Entrenar el modelo de Random Forest\n",
    "random_forest_regressor = RandomForestRegressor(n_estimators=100, random_state=42)\n",
    "random_forest_regressor.fit(X_train_scaled, y_train)\n"
   ],
   "metadata": {
    "collapsed": false,
    "ExecuteTime": {
     "end_time": "2024-03-19T03:01:14.436891Z",
     "start_time": "2024-03-19T03:00:05.010362800Z"
    }
   }
  },
  {
   "cell_type": "code",
   "execution_count": 66,
   "outputs": [],
   "source": [
    "# Función para preparar nuevas características para predicción\n",
    "def preparar_caracteristicas(fechas, latitudes, longitudes):\n",
    "    # Convertir a DataFrame\n",
    "    df_nuevo = pd.DataFrame({'Fecha': pd.to_datetime(fechas), 'Latitud': latitudes, 'Longitud': longitudes})\n",
    "    df_nuevo['Año'] = df_nuevo['Fecha'].dt.year\n",
    "    df_nuevo['Mes'] = df_nuevo['Fecha'].dt.month\n",
    "    return df_nuevo[['Latitud', 'Longitud', 'Año', 'Mes']]"
   ],
   "metadata": {
    "collapsed": false,
    "ExecuteTime": {
     "end_time": "2024-03-19T03:01:14.471754800Z",
     "start_time": "2024-03-19T03:01:14.441878800Z"
    }
   }
  },
  {
   "cell_type": "code",
   "execution_count": 131,
   "outputs": [],
   "source": [
    "# Generar nuevas fechas para predicción\n",
    "fechas_futuras = pd.date_range('2020-01-01', periods=36, freq='M') # 3 años de predicciones mensuales\n",
    "latitudes_ejemplo = [21.125] * len(fechas_futuras)  # Ejemplo de latitud fija\n",
    "longitudes_ejemplo = [-106.625] * len(fechas_futuras)  # Ejemplo de longitud fija\n",
    "#21.125,-106.625\n",
    "\n"
   ],
   "metadata": {
    "collapsed": false,
    "ExecuteTime": {
     "end_time": "2024-03-19T03:35:14.540298500Z",
     "start_time": "2024-03-19T03:35:14.515615800Z"
    }
   }
  },
  {
   "cell_type": "code",
   "execution_count": 132,
   "outputs": [],
   "source": [
    "# Preparar características para las nuevas predicciones\n",
    "X_nuevo = preparar_caracteristicas(fechas_futuras, latitudes_ejemplo, longitudes_ejemplo)"
   ],
   "metadata": {
    "collapsed": false,
    "ExecuteTime": {
     "end_time": "2024-03-19T03:35:15.139237100Z",
     "start_time": "2024-03-19T03:35:15.116071Z"
    }
   }
  },
  {
   "cell_type": "code",
   "execution_count": 133,
   "outputs": [],
   "source": [
    "# Escalar las nuevas características\n",
    "X_nuevo_scaled = scaler.transform(X_nuevo)"
   ],
   "metadata": {
    "collapsed": false,
    "ExecuteTime": {
     "end_time": "2024-03-19T03:35:15.644626900Z",
     "start_time": "2024-03-19T03:35:15.616073800Z"
    }
   }
  },
  {
   "cell_type": "code",
   "execution_count": 134,
   "outputs": [],
   "source": [
    "# Hacer las predicciones\n",
    "predicciones_sst = random_forest_regressor.predict(X_nuevo_scaled)\n"
   ],
   "metadata": {
    "collapsed": false,
    "ExecuteTime": {
     "end_time": "2024-03-19T03:35:16.326548900Z",
     "start_time": "2024-03-19T03:35:16.282839Z"
    }
   }
  },
  {
   "cell_type": "code",
   "execution_count": 135,
   "metadata": {
    "collapsed": true,
    "ExecuteTime": {
     "end_time": "2024-03-19T03:35:17.226921700Z",
     "start_time": "2024-03-19T03:35:17.199014Z"
    }
   },
   "outputs": [
    {
     "name": "stdout",
     "output_type": "stream",
     "text": [
      "        Fecha  Prediccion_SST\n",
      "0  2020-01-31       26.352631\n",
      "1  2020-02-29       24.522648\n",
      "2  2020-03-31       24.602211\n",
      "3  2020-04-30       25.139078\n",
      "4  2020-05-31       25.895255\n",
      "5  2020-06-30       27.328676\n",
      "6  2020-07-31       28.863648\n",
      "7  2020-08-31       29.606893\n",
      "8  2020-09-30       29.440374\n",
      "9  2020-10-31       29.875484\n",
      "10 2020-11-30       28.801076\n",
      "11 2020-12-31       25.572162\n",
      "12 2021-01-31       22.673191\n",
      "13 2021-02-28       22.757138\n",
      "14 2021-03-31       23.428549\n",
      "15 2021-04-30       24.817179\n",
      "16 2021-05-31       26.998744\n",
      "17 2021-06-30       28.229369\n",
      "18 2021-07-31       29.144830\n",
      "19 2021-08-31       29.971042\n",
      "20 2021-09-30       29.233350\n",
      "21 2021-10-31       29.476490\n",
      "22 2021-11-30       28.698594\n",
      "23 2021-12-31       27.089305\n",
      "24 2022-01-31       25.277580\n",
      "25 2022-02-28       24.104055\n",
      "26 2022-03-31       24.234016\n",
      "27 2022-04-30       24.378389\n",
      "28 2022-05-31       25.929438\n",
      "29 2022-06-30       27.099510\n",
      "30 2022-07-31       29.328962\n",
      "31 2022-08-31       30.194438\n",
      "32 2022-09-30       29.545774\n",
      "33 2022-10-31       29.442380\n",
      "34 2022-11-30       28.005619\n",
      "35 2022-12-31       26.168573\n"
     ]
    }
   ],
   "source": [
    "# Resultados\n",
    "resultados = pd.DataFrame({\n",
    "    'Fecha': fechas_futuras,\n",
    "    'Prediccion_SST': predicciones_sst\n",
    "})\n",
    "\n",
    "resultados.to_csv(\"resultados2.csv\", index=False)\n",
    "print(resultados)\n"
   ]
  },
  {
   "cell_type": "code",
   "execution_count": 103,
   "outputs": [],
   "source": [
    "res1= pd.read_csv(\"resultados2.csv\")"
   ],
   "metadata": {
    "collapsed": false,
    "ExecuteTime": {
     "end_time": "2024-03-19T03:08:12.166828Z",
     "start_time": "2024-03-19T03:08:12.150812300Z"
    }
   }
  },
  {
   "cell_type": "code",
   "execution_count": 104,
   "outputs": [],
   "source": [
    "res2 = pd.read_csv(\"resultados1.csv\")"
   ],
   "metadata": {
    "collapsed": false,
    "ExecuteTime": {
     "end_time": "2024-03-19T03:08:12.763067700Z",
     "start_time": "2024-03-19T03:08:12.743244700Z"
    }
   }
  },
  {
   "cell_type": "code",
   "execution_count": 115,
   "outputs": [
    {
     "data": {
      "text/plain": "<Figure size 1000x600 with 3 Axes>",
      "image/png": "[encoded data removed]"
     },
     "metadata": {},
     "output_type": "display_data"
    }
   ],
   "source": [
    "import matplotlib.pyplot as plt\n",
    "\n",
    "plt.figure(figsize=(10, 6))\n",
    "\n",
    "# Gráfico para el primer modelo\n",
    "sc = plt.scatter(longitudes_ejemplo, latitudes_ejemplo, c=res1['Prediccion_SST'], cmap='viridis', label='Modelo 1')\n",
    "\n",
    "# Gráfico para el segundo modelo\n",
    "sc1 = plt.scatter(longitudes_ejemplo, latitudes_ejemplo, c=res2['Prediccion_SST'], cmap='plasma', label='Modelo 2')\n",
    "\n",
    "# Crear la barra de colores para el primer modelo\n",
    "cbar = plt.colorbar(sc, label='Temperatura superficial del mar (SST) - Modelo 1', pad=0.1)\n",
    "\n",
    "# Crear la barra de colores para el segundo modelo\n",
    "cbar1 = plt.colorbar(sc1, label='Temperatura superficial del mar (SST) - Modelo 2', pad=0.15)\n",
    "cbar1.ax.yaxis.set_label_position('left')\n",
    "\n",
    "# Etiquetas y título\n",
    "plt.xlabel('Longitud')\n",
    "plt.ylabel('Latitud')\n",
    "plt.title('Distribución de la Temperatura Superficial del Mar (SST)')\n",
    "\n",
    "# Leyenda\n",
    "plt.legend()\n",
    "\n",
    "# Mostrar el gráfico\n",
    "plt.show()\n"
   ],
   "metadata": {
    "collapsed": false,
    "ExecuteTime": {
     "end_time": "2024-03-19T03:15:03.437495300Z",
     "start_time": "2024-03-19T03:15:02.950335900Z"
    }
   }
  },
  {
   "cell_type": "code",
   "execution_count": 21,
   "outputs": [],
   "source": [],
   "metadata": {
    "collapsed": false,
    "ExecuteTime": {
     "end_time": "2024-03-19T02:42:24.289575300Z",
     "start_time": "2024-03-19T02:42:24.273954400Z"
    }
   }
  },
  {
   "cell_type": "code",
   "execution_count": null,
   "outputs": [],
   "source": [],
   "metadata": {
    "collapsed": false
   }
  }
 ],
 "metadata": {
  "kernelspec": {
   "display_name": "Python 3",
   "language": "python",
   "name": "python3"
  },
  "language_info": {
   "codemirror_mode": {
    "name": "ipython",
    "version": 2
   },
   "file_extension": ".py",
   "mimetype": "text/x-python",
   "name": "python",
   "nbconvert_exporter": "python",
   "pygments_lexer": "ipython2",
   "version": "2.7.6"
  }
 },
 "nbformat": 4,
 "nbformat_minor": 0
}
